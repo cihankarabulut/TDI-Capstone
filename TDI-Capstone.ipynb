{
 "cells": [
  {
   "cell_type": "markdown",
   "id": "2aa9abd3-d80f-47cc-a80a-1b7860da53d2",
   "metadata": {},
   "source": [
    "## Analyzing ACN Data to Understand the Charging Behavior Of EV Owners"
   ]
  },
  {
   "cell_type": "markdown",
   "id": "0e9ee4fd-4b1f-4fbb-9fb4-404f96f11022",
   "metadata": {},
   "source": [
    "Electric vehicles (EVs) are growing in popularity globally due to their potential contribution in reducing the dependency on fossil fuels and greenhouse gas emissions. However, the growth of EVs in recent years has raised the question of how to charge EVs at scale while avoiding adverse effects on the power grid and public infrastructure. An important part of addressing this question is understanding consumer charging behavior. \n",
    "\n",
    "In this project, I analyze a dataset of workplace EV charging obtained from two Adaptive Charging Networks (ACN) located in California. The dataset includes 30,814 charging sessions from ACN located on JPL's campus and 18,021 charging sessions from ACN located on Caltech's campus different locations during the period 11/01/2018-9/01/2021. The end goal of this project is to build a model using Gaussian mixture models (GMMs) that can learn the underlying joint distribution of arrival time, charging session duration, and energy delivered. To evaluate how well our GMM fits the underlying distribution, we will generate samples using our trained model and compare their distribution with the empirical distribution from our test set.\n",
    "\n",
    "Beside using the model to gain insight about user charging behavior, the the trained model can also be utilized to generate samples consisting of arrival time, charging session duration and energy delivered to simulate a real world charging enviroment, and this simulated enviroment can then be used when developing and testing smart EV charging systems.\n",
    "\n"
   ]
  },
  {
   "cell_type": "markdown",
   "id": "ca36b6aa-6e55-4894-a92e-1b0a4e79e4f7",
   "metadata": {},
   "source": [
    "#### Basic Libraries"
   ]
  },
  {
   "cell_type": "code",
   "execution_count": 126,
   "id": "8351bcc0-7e72-4193-8f12-65630ec43e81",
   "metadata": {
    "tags": []
   },
   "outputs": [],
   "source": [
    "import requests\n",
    "import pandas as pd\n",
    "import numpy as np\n",
    "import json\n",
    "#pd.set_option('display.max_rows', None)\n",
    "#pd.set_option('display.max_columns', None)\n",
    "import seaborn as sns\n",
    "import matplotlib as mpl\n",
    "import matplotlib.pyplot as plt\n",
    "sns.set_style(\"darkgrid\")\n",
    "plt.style.use('seaborn')"
   ]
  },
  {
   "cell_type": "markdown",
   "id": "8331392d-2f5c-49b5-a662-b9c241c79fbe",
   "metadata": {},
   "source": [
    "#### Loading Datasets\n",
    "I tried to use the API to download the data, but getting the api to work with the pagination process proved to difficult. Instead I used the Web interface to download the relavant datasets in JSON format from Caltech and JPL ASN to my local computer, and converted them to Pandas dataframes as follows."
   ]
  },
  {
   "cell_type": "code",
   "execution_count": 127,
   "id": "54b8c505-b4a5-46f2-8365-c23032e66d70",
   "metadata": {},
   "outputs": [],
   "source": [
    "with open(r'C:\\Users\\karabulutc\\Jupyter Notebooks\\TDI - Capstone\\acndata_sessions_11_01_2018-9_01_2021_JPL.json') as JPL:\n",
    "  dataJPL = json.load(JPL)\n"
   ]
  },
  {
   "cell_type": "code",
   "execution_count": 128,
   "id": "b726d56f-e869-4788-ab71-dacb00d3ce94",
   "metadata": {},
   "outputs": [],
   "source": [
    "with open(r'C:\\Users\\karabulutc\\Jupyter Notebooks\\TDI - Capstone\\acndata_sessions_11_01_2018-9_01_2021_Caltech.json') as Caltech:\n",
    "  dataCaltech = json.load(Caltech)"
   ]
  },
  {
   "cell_type": "code",
   "execution_count": 129,
   "id": "d5d1a753-cea0-4f34-abf6-e265631005f6",
   "metadata": {},
   "outputs": [],
   "source": [
    "dfJPL = pd.json_normalize(dataJPL['_items'])"
   ]
  },
  {
   "cell_type": "code",
   "execution_count": 130,
   "id": "3ef966df-1082-4867-bf80-6c3c97a03194",
   "metadata": {},
   "outputs": [],
   "source": [
    "dfCal = pd.json_normalize(dataCaltech['_items'])"
   ]
  },
  {
   "cell_type": "markdown",
   "id": "f0014227-9028-4dc6-abe1-9f69213283e1",
   "metadata": {},
   "source": [
    "#### A first look and missing values\n",
    "\n",
    "The data fields in the dataframe below are self explanatory, but the precise description of each field can be found [here.](https://ev.caltech.edu/dataset)"
   ]
  },
  {
   "cell_type": "code",
   "execution_count": 131,
   "id": "27015fef-db74-4c67-a7cb-a7965b569e5b",
   "metadata": {},
   "outputs": [
    {
     "data": {
      "text/html": [
       "<div>\n",
       "<style scoped>\n",
       "    .dataframe tbody tr th:only-of-type {\n",
       "        vertical-align: middle;\n",
       "    }\n",
       "\n",
       "    .dataframe tbody tr th {\n",
       "        vertical-align: top;\n",
       "    }\n",
       "\n",
       "    .dataframe thead th {\n",
       "        text-align: right;\n",
       "    }\n",
       "</style>\n",
       "<table border=\"1\" class=\"dataframe\">\n",
       "  <thead>\n",
       "    <tr style=\"text-align: right;\">\n",
       "      <th></th>\n",
       "      <th>_id</th>\n",
       "      <th>clusterID</th>\n",
       "      <th>connectionTime</th>\n",
       "      <th>disconnectTime</th>\n",
       "      <th>doneChargingTime</th>\n",
       "      <th>kWhDelivered</th>\n",
       "      <th>sessionID</th>\n",
       "      <th>siteID</th>\n",
       "      <th>spaceID</th>\n",
       "      <th>stationID</th>\n",
       "      <th>timezone</th>\n",
       "      <th>userID</th>\n",
       "      <th>userInputs</th>\n",
       "    </tr>\n",
       "  </thead>\n",
       "  <tbody>\n",
       "    <tr>\n",
       "      <th>0</th>\n",
       "      <td>5c36680ef9af8b4639a8ea37</td>\n",
       "      <td>0001</td>\n",
       "      <td>Thu, 01 Nov 2018 12:24:45 GMT</td>\n",
       "      <td>Thu, 01 Nov 2018 22:47:54 GMT</td>\n",
       "      <td>Thu, 01 Nov 2018 16:29:39 GMT</td>\n",
       "      <td>12.037</td>\n",
       "      <td>1_1_193_827_2018-11-01 12:24:44.795402</td>\n",
       "      <td>0001</td>\n",
       "      <td>AG-1F02</td>\n",
       "      <td>1-1-193-827</td>\n",
       "      <td>America/Los_Angeles</td>\n",
       "      <td>000000404</td>\n",
       "      <td>[{'WhPerMile': 600, 'kWhRequested': 24.0, 'mil...</td>\n",
       "    </tr>\n",
       "    <tr>\n",
       "      <th>1</th>\n",
       "      <td>5c36680ef9af8b4639a8ea38</td>\n",
       "      <td>0001</td>\n",
       "      <td>Thu, 01 Nov 2018 12:36:35 GMT</td>\n",
       "      <td>Fri, 02 Nov 2018 01:06:29 GMT</td>\n",
       "      <td>Thu, 01 Nov 2018 18:32:17 GMT</td>\n",
       "      <td>36.737</td>\n",
       "      <td>1_1_178_824_2018-11-01 12:36:34.589955</td>\n",
       "      <td>0001</td>\n",
       "      <td>AG-1F07</td>\n",
       "      <td>1-1-178-824</td>\n",
       "      <td>America/Los_Angeles</td>\n",
       "      <td>000000933</td>\n",
       "      <td>[{'WhPerMile': 325, 'kWhRequested': 39.0, 'mil...</td>\n",
       "    </tr>\n",
       "    <tr>\n",
       "      <th>2</th>\n",
       "      <td>5c36680ef9af8b4639a8ea39</td>\n",
       "      <td>0001</td>\n",
       "      <td>Thu, 01 Nov 2018 12:40:38 GMT</td>\n",
       "      <td>Thu, 01 Nov 2018 21:05:55 GMT</td>\n",
       "      <td>Thu, 01 Nov 2018 16:40:17 GMT</td>\n",
       "      <td>11.944</td>\n",
       "      <td>1_1_194_821_2018-11-01 12:40:38.037593</td>\n",
       "      <td>0001</td>\n",
       "      <td>AG-1F13</td>\n",
       "      <td>1-1-194-821</td>\n",
       "      <td>America/Los_Angeles</td>\n",
       "      <td>000000651</td>\n",
       "      <td>[{'WhPerMile': 500, 'kWhRequested': 20.0, 'mil...</td>\n",
       "    </tr>\n",
       "    <tr>\n",
       "      <th>3</th>\n",
       "      <td>5c36680ef9af8b4639a8ea3a</td>\n",
       "      <td>0001</td>\n",
       "      <td>Thu, 01 Nov 2018 12:48:14 GMT</td>\n",
       "      <td>Thu, 01 Nov 2018 22:36:11 GMT</td>\n",
       "      <td>Thu, 01 Nov 2018 17:20:16 GMT</td>\n",
       "      <td>10.588</td>\n",
       "      <td>1_1_178_823_2018-11-01 12:48:14.268383</td>\n",
       "      <td>0001</td>\n",
       "      <td>AG-1F08</td>\n",
       "      <td>1-1-178-823</td>\n",
       "      <td>America/Los_Angeles</td>\n",
       "      <td>000000406</td>\n",
       "      <td>[{'WhPerMile': 500, 'kWhRequested': 20.0, 'mil...</td>\n",
       "    </tr>\n",
       "    <tr>\n",
       "      <th>4</th>\n",
       "      <td>5c36680ef9af8b4639a8ea3b</td>\n",
       "      <td>0001</td>\n",
       "      <td>Thu, 01 Nov 2018 12:50:57 GMT</td>\n",
       "      <td>Fri, 02 Nov 2018 00:03:22 GMT</td>\n",
       "      <td>Thu, 01 Nov 2018 14:51:47 GMT</td>\n",
       "      <td>5.961</td>\n",
       "      <td>1_1_191_789_2018-11-01 12:50:56.998469</td>\n",
       "      <td>0001</td>\n",
       "      <td>AG-4F52</td>\n",
       "      <td>1-1-191-789</td>\n",
       "      <td>America/Los_Angeles</td>\n",
       "      <td>000000483</td>\n",
       "      <td>[{'WhPerMile': 350, 'kWhRequested': 7.0, 'mile...</td>\n",
       "    </tr>\n",
       "  </tbody>\n",
       "</table>\n",
       "</div>"
      ],
      "text/plain": [
       "                        _id clusterID                 connectionTime  \\\n",
       "0  5c36680ef9af8b4639a8ea37      0001  Thu, 01 Nov 2018 12:24:45 GMT   \n",
       "1  5c36680ef9af8b4639a8ea38      0001  Thu, 01 Nov 2018 12:36:35 GMT   \n",
       "2  5c36680ef9af8b4639a8ea39      0001  Thu, 01 Nov 2018 12:40:38 GMT   \n",
       "3  5c36680ef9af8b4639a8ea3a      0001  Thu, 01 Nov 2018 12:48:14 GMT   \n",
       "4  5c36680ef9af8b4639a8ea3b      0001  Thu, 01 Nov 2018 12:50:57 GMT   \n",
       "\n",
       "                  disconnectTime               doneChargingTime  kWhDelivered  \\\n",
       "0  Thu, 01 Nov 2018 22:47:54 GMT  Thu, 01 Nov 2018 16:29:39 GMT        12.037   \n",
       "1  Fri, 02 Nov 2018 01:06:29 GMT  Thu, 01 Nov 2018 18:32:17 GMT        36.737   \n",
       "2  Thu, 01 Nov 2018 21:05:55 GMT  Thu, 01 Nov 2018 16:40:17 GMT        11.944   \n",
       "3  Thu, 01 Nov 2018 22:36:11 GMT  Thu, 01 Nov 2018 17:20:16 GMT        10.588   \n",
       "4  Fri, 02 Nov 2018 00:03:22 GMT  Thu, 01 Nov 2018 14:51:47 GMT         5.961   \n",
       "\n",
       "                                sessionID siteID  spaceID    stationID  \\\n",
       "0  1_1_193_827_2018-11-01 12:24:44.795402   0001  AG-1F02  1-1-193-827   \n",
       "1  1_1_178_824_2018-11-01 12:36:34.589955   0001  AG-1F07  1-1-178-824   \n",
       "2  1_1_194_821_2018-11-01 12:40:38.037593   0001  AG-1F13  1-1-194-821   \n",
       "3  1_1_178_823_2018-11-01 12:48:14.268383   0001  AG-1F08  1-1-178-823   \n",
       "4  1_1_191_789_2018-11-01 12:50:56.998469   0001  AG-4F52  1-1-191-789   \n",
       "\n",
       "              timezone     userID  \\\n",
       "0  America/Los_Angeles  000000404   \n",
       "1  America/Los_Angeles  000000933   \n",
       "2  America/Los_Angeles  000000651   \n",
       "3  America/Los_Angeles  000000406   \n",
       "4  America/Los_Angeles  000000483   \n",
       "\n",
       "                                          userInputs  \n",
       "0  [{'WhPerMile': 600, 'kWhRequested': 24.0, 'mil...  \n",
       "1  [{'WhPerMile': 325, 'kWhRequested': 39.0, 'mil...  \n",
       "2  [{'WhPerMile': 500, 'kWhRequested': 20.0, 'mil...  \n",
       "3  [{'WhPerMile': 500, 'kWhRequested': 20.0, 'mil...  \n",
       "4  [{'WhPerMile': 350, 'kWhRequested': 7.0, 'mile...  "
      ]
     },
     "execution_count": 131,
     "metadata": {},
     "output_type": "execute_result"
    }
   ],
   "source": [
    "dfJPL.head()"
   ]
  },
  {
   "cell_type": "code",
   "execution_count": 132,
   "id": "06aa50ee-adc7-451c-990e-708d8b457bba",
   "metadata": {},
   "outputs": [
    {
     "name": "stdout",
     "output_type": "stream",
     "text": [
      "<class 'pandas.core.frame.DataFrame'>\n",
      "RangeIndex: 30814 entries, 0 to 30813\n",
      "Data columns (total 13 columns):\n",
      " #   Column            Non-Null Count  Dtype  \n",
      "---  ------            --------------  -----  \n",
      " 0   _id               30814 non-null  object \n",
      " 1   clusterID         30814 non-null  object \n",
      " 2   connectionTime    30814 non-null  object \n",
      " 3   disconnectTime    30814 non-null  object \n",
      " 4   doneChargingTime  30049 non-null  object \n",
      " 5   kWhDelivered      30814 non-null  float64\n",
      " 6   sessionID         30814 non-null  object \n",
      " 7   siteID            30814 non-null  object \n",
      " 8   spaceID           30814 non-null  object \n",
      " 9   stationID         30814 non-null  object \n",
      " 10  timezone          30814 non-null  object \n",
      " 11  userID            29765 non-null  object \n",
      " 12  userInputs        29765 non-null  object \n",
      "dtypes: float64(1), object(12)\n",
      "memory usage: 3.1+ MB\n"
     ]
    }
   ],
   "source": [
    "dfJPL.info()"
   ]
  },
  {
   "cell_type": "code",
   "execution_count": 133,
   "id": "893d5cc5-6d8b-414b-b747-1c19eb03eb0d",
   "metadata": {},
   "outputs": [
    {
     "data": {
      "text/html": [
       "<div>\n",
       "<style scoped>\n",
       "    .dataframe tbody tr th:only-of-type {\n",
       "        vertical-align: middle;\n",
       "    }\n",
       "\n",
       "    .dataframe tbody tr th {\n",
       "        vertical-align: top;\n",
       "    }\n",
       "\n",
       "    .dataframe thead th {\n",
       "        text-align: right;\n",
       "    }\n",
       "</style>\n",
       "<table border=\"1\" class=\"dataframe\">\n",
       "  <thead>\n",
       "    <tr style=\"text-align: right;\">\n",
       "      <th></th>\n",
       "      <th>_id</th>\n",
       "      <th>clusterID</th>\n",
       "      <th>connectionTime</th>\n",
       "      <th>disconnectTime</th>\n",
       "      <th>doneChargingTime</th>\n",
       "      <th>kWhDelivered</th>\n",
       "      <th>sessionID</th>\n",
       "      <th>siteID</th>\n",
       "      <th>spaceID</th>\n",
       "      <th>stationID</th>\n",
       "      <th>timezone</th>\n",
       "      <th>userID</th>\n",
       "      <th>userInputs</th>\n",
       "    </tr>\n",
       "  </thead>\n",
       "  <tbody>\n",
       "    <tr>\n",
       "      <th>0</th>\n",
       "      <td>5c2e858ef9af8b13dab074de</td>\n",
       "      <td>0039</td>\n",
       "      <td>Thu, 01 Nov 2018 13:55:03 GMT</td>\n",
       "      <td>Thu, 01 Nov 2018 15:10:42 GMT</td>\n",
       "      <td>Thu, 01 Nov 2018 15:10:38 GMT</td>\n",
       "      <td>4.327000</td>\n",
       "      <td>2_39_89_25_2018-11-01 13:55:02.815279</td>\n",
       "      <td>0002</td>\n",
       "      <td>CA-315</td>\n",
       "      <td>2-39-89-25</td>\n",
       "      <td>America/Los_Angeles</td>\n",
       "      <td>000000743</td>\n",
       "      <td>[{'WhPerMile': 500, 'kWhRequested': 5.0, 'mile...</td>\n",
       "    </tr>\n",
       "    <tr>\n",
       "      <th>1</th>\n",
       "      <td>5c2e858ef9af8b13dab074df</td>\n",
       "      <td>0039</td>\n",
       "      <td>Thu, 01 Nov 2018 13:57:00 GMT</td>\n",
       "      <td>Thu, 01 Nov 2018 18:45:20 GMT</td>\n",
       "      <td>Thu, 01 Nov 2018 15:17:51 GMT</td>\n",
       "      <td>6.427000</td>\n",
       "      <td>2_39_79_380_2018-11-01 13:57:00.128478</td>\n",
       "      <td>0002</td>\n",
       "      <td>CA-489</td>\n",
       "      <td>2-39-79-380</td>\n",
       "      <td>America/Los_Angeles</td>\n",
       "      <td>000000066</td>\n",
       "      <td>[{'WhPerMile': 357, 'kWhRequested': 14.28, 'mi...</td>\n",
       "    </tr>\n",
       "    <tr>\n",
       "      <th>2</th>\n",
       "      <td>5c2e858ef9af8b13dab074e0</td>\n",
       "      <td>0039</td>\n",
       "      <td>Thu, 01 Nov 2018 14:05:58 GMT</td>\n",
       "      <td>Thu, 01 Nov 2018 15:14:00 GMT</td>\n",
       "      <td>Thu, 01 Nov 2018 15:13:52 GMT</td>\n",
       "      <td>6.930000</td>\n",
       "      <td>2_39_95_27_2018-11-01 14:05:57.543149</td>\n",
       "      <td>0002</td>\n",
       "      <td>CA-319</td>\n",
       "      <td>2-39-95-27</td>\n",
       "      <td>America/Los_Angeles</td>\n",
       "      <td>000000566</td>\n",
       "      <td>[{'WhPerMile': 278, 'kWhRequested': 11.12, 'mi...</td>\n",
       "    </tr>\n",
       "    <tr>\n",
       "      <th>3</th>\n",
       "      <td>5c2e858ef9af8b13dab074e1</td>\n",
       "      <td>0039</td>\n",
       "      <td>Thu, 01 Nov 2018 14:06:08 GMT</td>\n",
       "      <td>Thu, 01 Nov 2018 22:20:43 GMT</td>\n",
       "      <td>Thu, 01 Nov 2018 22:18:58 GMT</td>\n",
       "      <td>0.917000</td>\n",
       "      <td>2_39_79_376_2018-11-01 14:06:07.581931</td>\n",
       "      <td>0002</td>\n",
       "      <td>CA-324</td>\n",
       "      <td>2-39-79-376</td>\n",
       "      <td>America/Los_Angeles</td>\n",
       "      <td>None</td>\n",
       "      <td>None</td>\n",
       "    </tr>\n",
       "    <tr>\n",
       "      <th>4</th>\n",
       "      <td>5c2e858ef9af8b13dab074e2</td>\n",
       "      <td>0039</td>\n",
       "      <td>Thu, 01 Nov 2018 14:07:28 GMT</td>\n",
       "      <td>Thu, 01 Nov 2018 18:35:02 GMT</td>\n",
       "      <td>Thu, 01 Nov 2018 17:40:55 GMT</td>\n",
       "      <td>19.476567</td>\n",
       "      <td>2_39_78_360_2018-11-01 14:07:28.105688</td>\n",
       "      <td>0002</td>\n",
       "      <td>CA-322</td>\n",
       "      <td>2-39-78-360</td>\n",
       "      <td>America/Los_Angeles</td>\n",
       "      <td>000000560</td>\n",
       "      <td>[{'WhPerMile': 273, 'kWhRequested': 21.84, 'mi...</td>\n",
       "    </tr>\n",
       "  </tbody>\n",
       "</table>\n",
       "</div>"
      ],
      "text/plain": [
       "                        _id clusterID                 connectionTime  \\\n",
       "0  5c2e858ef9af8b13dab074de      0039  Thu, 01 Nov 2018 13:55:03 GMT   \n",
       "1  5c2e858ef9af8b13dab074df      0039  Thu, 01 Nov 2018 13:57:00 GMT   \n",
       "2  5c2e858ef9af8b13dab074e0      0039  Thu, 01 Nov 2018 14:05:58 GMT   \n",
       "3  5c2e858ef9af8b13dab074e1      0039  Thu, 01 Nov 2018 14:06:08 GMT   \n",
       "4  5c2e858ef9af8b13dab074e2      0039  Thu, 01 Nov 2018 14:07:28 GMT   \n",
       "\n",
       "                  disconnectTime               doneChargingTime  kWhDelivered  \\\n",
       "0  Thu, 01 Nov 2018 15:10:42 GMT  Thu, 01 Nov 2018 15:10:38 GMT      4.327000   \n",
       "1  Thu, 01 Nov 2018 18:45:20 GMT  Thu, 01 Nov 2018 15:17:51 GMT      6.427000   \n",
       "2  Thu, 01 Nov 2018 15:14:00 GMT  Thu, 01 Nov 2018 15:13:52 GMT      6.930000   \n",
       "3  Thu, 01 Nov 2018 22:20:43 GMT  Thu, 01 Nov 2018 22:18:58 GMT      0.917000   \n",
       "4  Thu, 01 Nov 2018 18:35:02 GMT  Thu, 01 Nov 2018 17:40:55 GMT     19.476567   \n",
       "\n",
       "                                sessionID siteID spaceID    stationID  \\\n",
       "0   2_39_89_25_2018-11-01 13:55:02.815279   0002  CA-315   2-39-89-25   \n",
       "1  2_39_79_380_2018-11-01 13:57:00.128478   0002  CA-489  2-39-79-380   \n",
       "2   2_39_95_27_2018-11-01 14:05:57.543149   0002  CA-319   2-39-95-27   \n",
       "3  2_39_79_376_2018-11-01 14:06:07.581931   0002  CA-324  2-39-79-376   \n",
       "4  2_39_78_360_2018-11-01 14:07:28.105688   0002  CA-322  2-39-78-360   \n",
       "\n",
       "              timezone     userID  \\\n",
       "0  America/Los_Angeles  000000743   \n",
       "1  America/Los_Angeles  000000066   \n",
       "2  America/Los_Angeles  000000566   \n",
       "3  America/Los_Angeles       None   \n",
       "4  America/Los_Angeles  000000560   \n",
       "\n",
       "                                          userInputs  \n",
       "0  [{'WhPerMile': 500, 'kWhRequested': 5.0, 'mile...  \n",
       "1  [{'WhPerMile': 357, 'kWhRequested': 14.28, 'mi...  \n",
       "2  [{'WhPerMile': 278, 'kWhRequested': 11.12, 'mi...  \n",
       "3                                               None  \n",
       "4  [{'WhPerMile': 273, 'kWhRequested': 21.84, 'mi...  "
      ]
     },
     "execution_count": 133,
     "metadata": {},
     "output_type": "execute_result"
    }
   ],
   "source": [
    "dfCal.head()"
   ]
  },
  {
   "cell_type": "code",
   "execution_count": 134,
   "id": "76eff828-277f-4aaf-b558-0c90b1c7a08d",
   "metadata": {},
   "outputs": [
    {
     "name": "stdout",
     "output_type": "stream",
     "text": [
      "<class 'pandas.core.frame.DataFrame'>\n",
      "RangeIndex: 18021 entries, 0 to 18020\n",
      "Data columns (total 13 columns):\n",
      " #   Column            Non-Null Count  Dtype  \n",
      "---  ------            --------------  -----  \n",
      " 0   _id               18021 non-null  object \n",
      " 1   clusterID         18021 non-null  object \n",
      " 2   connectionTime    18021 non-null  object \n",
      " 3   disconnectTime    18021 non-null  object \n",
      " 4   doneChargingTime  16038 non-null  object \n",
      " 5   kWhDelivered      18021 non-null  float64\n",
      " 6   sessionID         18021 non-null  object \n",
      " 7   siteID            18021 non-null  object \n",
      " 8   spaceID           18021 non-null  object \n",
      " 9   stationID         18021 non-null  object \n",
      " 10  timezone          18021 non-null  object \n",
      " 11  userID            15390 non-null  object \n",
      " 12  userInputs        15390 non-null  object \n",
      "dtypes: float64(1), object(12)\n",
      "memory usage: 1.8+ MB\n"
     ]
    }
   ],
   "source": [
    "dfCal.info()"
   ]
  },
  {
   "cell_type": "code",
   "execution_count": 135,
   "id": "167d032e-ad47-4829-ba73-593b8837d123",
   "metadata": {},
   "outputs": [
    {
     "data": {
      "text/plain": [
       "_id                    0\n",
       "clusterID              0\n",
       "connectionTime         0\n",
       "disconnectTime         0\n",
       "doneChargingTime     765\n",
       "kWhDelivered           0\n",
       "sessionID              0\n",
       "siteID                 0\n",
       "spaceID                0\n",
       "stationID              0\n",
       "timezone               0\n",
       "userID              1049\n",
       "userInputs          1049\n",
       "dtype: int64"
      ]
     },
     "execution_count": 135,
     "metadata": {},
     "output_type": "execute_result"
    }
   ],
   "source": [
    "dfJPL.isna().sum()"
   ]
  },
  {
   "cell_type": "code",
   "execution_count": 136,
   "id": "ade15222-5443-41b1-8811-2feff83f0f66",
   "metadata": {},
   "outputs": [
    {
     "data": {
      "text/plain": [
       "_id                    0\n",
       "clusterID              0\n",
       "connectionTime         0\n",
       "disconnectTime         0\n",
       "doneChargingTime    1983\n",
       "kWhDelivered           0\n",
       "sessionID              0\n",
       "siteID                 0\n",
       "spaceID                0\n",
       "stationID              0\n",
       "timezone               0\n",
       "userID              2631\n",
       "userInputs          2631\n",
       "dtype: int64"
      ]
     },
     "execution_count": 136,
     "metadata": {},
     "output_type": "execute_result"
    }
   ],
   "source": [
    "dfCal.isna().sum()"
   ]
  },
  {
   "cell_type": "markdown",
   "id": "9a887872-c29e-4405-92f9-45782cd71b98",
   "metadata": {},
   "source": [
    " In both datasets we see that there are missing values in categories `doneChargingTime`, `userID`, and `userInputs`. We will ignore these categories for now as they are not relevant to the model currently being considered. "
   ]
  },
  {
   "cell_type": "code",
   "execution_count": 137,
   "id": "0152a09a-3c1f-4ee1-8850-72724befc024",
   "metadata": {},
   "outputs": [],
   "source": [
    "dfJPL.drop(['doneChargingTime','userID','userInputs'], axis=1, inplace=True)"
   ]
  },
  {
   "cell_type": "code",
   "execution_count": 138,
   "id": "4ebc51fc-d6b9-4b86-b61e-2ac8011c2a32",
   "metadata": {},
   "outputs": [],
   "source": [
    "dfCal.drop(['doneChargingTime','userID','userInputs'], axis=1, inplace=True)"
   ]
  },
  {
   "cell_type": "markdown",
   "id": "5e27aea8-bf5d-43e0-b9fc-69105418b099",
   "metadata": {},
   "source": [
    "#### Some data wrangling, feature engineering, and data visualization\n",
    "We are interested in the distribution of arrival time, duration and the total energy (in kWh) delivered. Our data frame already contains the info about the total energy in the column `kWhDelivered`, and the values are already in the desirable form.\n",
    "The info about arrivals is contained in the column `connectionTime`, and the values for the duration can be obtained by simply calculating `disconnectTime` - `connectionTime`. This, unfortunately, will not work since we need to first convert these columns to datetime like values. We also need to convert the timezone from GMT to PST."
   ]
  },
  {
   "cell_type": "markdown",
   "id": "b2739c6e-3be5-4e97-b259-c3bfb06425a7",
   "metadata": {},
   "source": [
    "#### JPL Dataset"
   ]
  },
  {
   "cell_type": "code",
   "execution_count": 140,
   "id": "69c23dda-a9b6-4c60-b184-07be57e25bd4",
   "metadata": {},
   "outputs": [],
   "source": [
    "#Convert the values in the columns connectionTime and disconnectTime to datetime like values, and timezone for each value from GMT to PST.\n",
    "dfJPL['connectionTimeDate'] =pd.to_datetime(dfJPL['connectionTime']).dt.tz_convert('America/Los_Angeles')\n",
    "dfJPL['disconnectTimeDate'] =pd.to_datetime(dfJPL['disconnectTime']).dt.tz_convert('America/Los_Angeles')\n",
    "\n",
    "#Extract the hour of the arrivals and departures. \n",
    "dfJPL['arrivals'] =dfJPL['connectionTimeDate'].dt.hour\n",
    "dfJPL['departures'] =dfJPL['disconnectTimeDate'].dt.hour\n",
    "\n",
    "#Extract the day and the month for each charging session.  \n",
    "dfJPL['dayOfTheWeek'] = dfJPL['connectionTimeDate'].dt.day_name()\n",
    "dfJPL['monthOfTheYear'] = dfJPL['connectionTimeDate'].dt.month_name()\n",
    "\n",
    "#Calculate the duration for each charging session and convert the values to hours.\n",
    "dfJPL['duration'] = ((pd.to_datetime(dfJPL['disconnectTimeDate']) - \n",
    "                            pd.to_datetime(dfJPL['connectionTimeDate']))\n",
    "                                .dt.total_seconds() / 3600)\n"
   ]
  },
  {
   "cell_type": "code",
   "execution_count": 141,
   "id": "560b45d6-1d24-42a2-86d7-e4a603406230",
   "metadata": {},
   "outputs": [
    {
     "data": {
      "text/html": [
       "<div>\n",
       "<style scoped>\n",
       "    .dataframe tbody tr th:only-of-type {\n",
       "        vertical-align: middle;\n",
       "    }\n",
       "\n",
       "    .dataframe tbody tr th {\n",
       "        vertical-align: top;\n",
       "    }\n",
       "\n",
       "    .dataframe thead th {\n",
       "        text-align: right;\n",
       "    }\n",
       "</style>\n",
       "<table border=\"1\" class=\"dataframe\">\n",
       "  <thead>\n",
       "    <tr style=\"text-align: right;\">\n",
       "      <th></th>\n",
       "      <th>_id</th>\n",
       "      <th>clusterID</th>\n",
       "      <th>kWhDelivered</th>\n",
       "      <th>sessionID</th>\n",
       "      <th>siteID</th>\n",
       "      <th>spaceID</th>\n",
       "      <th>stationID</th>\n",
       "      <th>connectionTimeDate</th>\n",
       "      <th>disconnectTimeDate</th>\n",
       "      <th>arrivals</th>\n",
       "      <th>departures</th>\n",
       "      <th>dayOfTheWeek</th>\n",
       "      <th>monthOfTheYear</th>\n",
       "      <th>duration</th>\n",
       "    </tr>\n",
       "  </thead>\n",
       "  <tbody>\n",
       "    <tr>\n",
       "      <th>0</th>\n",
       "      <td>5c36680ef9af8b4639a8ea37</td>\n",
       "      <td>0001</td>\n",
       "      <td>12.037</td>\n",
       "      <td>1_1_193_827_2018-11-01 12:24:44.795402</td>\n",
       "      <td>0001</td>\n",
       "      <td>AG-1F02</td>\n",
       "      <td>1-1-193-827</td>\n",
       "      <td>2018-11-01 05:24:45-07:00</td>\n",
       "      <td>2018-11-01 15:47:54-07:00</td>\n",
       "      <td>5</td>\n",
       "      <td>15</td>\n",
       "      <td>Thursday</td>\n",
       "      <td>November</td>\n",
       "      <td>10.385833</td>\n",
       "    </tr>\n",
       "    <tr>\n",
       "      <th>1</th>\n",
       "      <td>5c36680ef9af8b4639a8ea38</td>\n",
       "      <td>0001</td>\n",
       "      <td>36.737</td>\n",
       "      <td>1_1_178_824_2018-11-01 12:36:34.589955</td>\n",
       "      <td>0001</td>\n",
       "      <td>AG-1F07</td>\n",
       "      <td>1-1-178-824</td>\n",
       "      <td>2018-11-01 05:36:35-07:00</td>\n",
       "      <td>2018-11-01 18:06:29-07:00</td>\n",
       "      <td>5</td>\n",
       "      <td>18</td>\n",
       "      <td>Thursday</td>\n",
       "      <td>November</td>\n",
       "      <td>12.498333</td>\n",
       "    </tr>\n",
       "    <tr>\n",
       "      <th>2</th>\n",
       "      <td>5c36680ef9af8b4639a8ea39</td>\n",
       "      <td>0001</td>\n",
       "      <td>11.944</td>\n",
       "      <td>1_1_194_821_2018-11-01 12:40:38.037593</td>\n",
       "      <td>0001</td>\n",
       "      <td>AG-1F13</td>\n",
       "      <td>1-1-194-821</td>\n",
       "      <td>2018-11-01 05:40:38-07:00</td>\n",
       "      <td>2018-11-01 14:05:55-07:00</td>\n",
       "      <td>5</td>\n",
       "      <td>14</td>\n",
       "      <td>Thursday</td>\n",
       "      <td>November</td>\n",
       "      <td>8.421389</td>\n",
       "    </tr>\n",
       "    <tr>\n",
       "      <th>3</th>\n",
       "      <td>5c36680ef9af8b4639a8ea3a</td>\n",
       "      <td>0001</td>\n",
       "      <td>10.588</td>\n",
       "      <td>1_1_178_823_2018-11-01 12:48:14.268383</td>\n",
       "      <td>0001</td>\n",
       "      <td>AG-1F08</td>\n",
       "      <td>1-1-178-823</td>\n",
       "      <td>2018-11-01 05:48:14-07:00</td>\n",
       "      <td>2018-11-01 15:36:11-07:00</td>\n",
       "      <td>5</td>\n",
       "      <td>15</td>\n",
       "      <td>Thursday</td>\n",
       "      <td>November</td>\n",
       "      <td>9.799167</td>\n",
       "    </tr>\n",
       "    <tr>\n",
       "      <th>4</th>\n",
       "      <td>5c36680ef9af8b4639a8ea3b</td>\n",
       "      <td>0001</td>\n",
       "      <td>5.961</td>\n",
       "      <td>1_1_191_789_2018-11-01 12:50:56.998469</td>\n",
       "      <td>0001</td>\n",
       "      <td>AG-4F52</td>\n",
       "      <td>1-1-191-789</td>\n",
       "      <td>2018-11-01 05:50:57-07:00</td>\n",
       "      <td>2018-11-01 17:03:22-07:00</td>\n",
       "      <td>5</td>\n",
       "      <td>17</td>\n",
       "      <td>Thursday</td>\n",
       "      <td>November</td>\n",
       "      <td>11.206944</td>\n",
       "    </tr>\n",
       "    <tr>\n",
       "      <th>...</th>\n",
       "      <td>...</td>\n",
       "      <td>...</td>\n",
       "      <td>...</td>\n",
       "      <td>...</td>\n",
       "      <td>...</td>\n",
       "      <td>...</td>\n",
       "      <td>...</td>\n",
       "      <td>...</td>\n",
       "      <td>...</td>\n",
       "      <td>...</td>\n",
       "      <td>...</td>\n",
       "      <td>...</td>\n",
       "      <td>...</td>\n",
       "      <td>...</td>\n",
       "    </tr>\n",
       "    <tr>\n",
       "      <th>30809</th>\n",
       "      <td>6146870bf9af8b603e05e923</td>\n",
       "      <td>0001</td>\n",
       "      <td>5.857</td>\n",
       "      <td>1_1_179_800_2021-08-31 21:20:07.773170</td>\n",
       "      <td>0001</td>\n",
       "      <td>AG-3F32</td>\n",
       "      <td>1-1-179-800</td>\n",
       "      <td>2021-08-31 14:20:19-07:00</td>\n",
       "      <td>2021-08-31 16:34:33-07:00</td>\n",
       "      <td>14</td>\n",
       "      <td>16</td>\n",
       "      <td>Tuesday</td>\n",
       "      <td>August</td>\n",
       "      <td>2.237222</td>\n",
       "    </tr>\n",
       "    <tr>\n",
       "      <th>30810</th>\n",
       "      <td>6146870bf9af8b603e05e924</td>\n",
       "      <td>0001</td>\n",
       "      <td>6.726</td>\n",
       "      <td>1_1_191_778_2021-08-31 21:32:25.000834</td>\n",
       "      <td>0001</td>\n",
       "      <td>AG-4F43</td>\n",
       "      <td>1-1-191-778</td>\n",
       "      <td>2021-08-31 14:32:32-07:00</td>\n",
       "      <td>2021-08-31 17:41:37-07:00</td>\n",
       "      <td>14</td>\n",
       "      <td>17</td>\n",
       "      <td>Tuesday</td>\n",
       "      <td>August</td>\n",
       "      <td>3.151389</td>\n",
       "    </tr>\n",
       "    <tr>\n",
       "      <th>30811</th>\n",
       "      <td>6146870bf9af8b603e05e925</td>\n",
       "      <td>0001</td>\n",
       "      <td>10.508</td>\n",
       "      <td>1_1_193_816_2021-08-31 22:15:42.043363</td>\n",
       "      <td>0001</td>\n",
       "      <td>AG-1F05</td>\n",
       "      <td>1-1-193-816</td>\n",
       "      <td>2021-08-31 15:16:00-07:00</td>\n",
       "      <td>2021-08-31 17:24:11-07:00</td>\n",
       "      <td>15</td>\n",
       "      <td>17</td>\n",
       "      <td>Tuesday</td>\n",
       "      <td>August</td>\n",
       "      <td>2.136389</td>\n",
       "    </tr>\n",
       "    <tr>\n",
       "      <th>30812</th>\n",
       "      <td>6146870bf9af8b603e05e926</td>\n",
       "      <td>0001</td>\n",
       "      <td>1.868</td>\n",
       "      <td>1_1_191_808_2021-08-31 22:28:26.847558</td>\n",
       "      <td>0001</td>\n",
       "      <td>AG-4F35</td>\n",
       "      <td>1-1-191-808</td>\n",
       "      <td>2021-08-31 15:28:36-07:00</td>\n",
       "      <td>2021-08-31 16:28:45-07:00</td>\n",
       "      <td>15</td>\n",
       "      <td>16</td>\n",
       "      <td>Tuesday</td>\n",
       "      <td>August</td>\n",
       "      <td>1.002500</td>\n",
       "    </tr>\n",
       "    <tr>\n",
       "      <th>30813</th>\n",
       "      <td>6146870bf9af8b603e05e927</td>\n",
       "      <td>0001</td>\n",
       "      <td>1.351</td>\n",
       "      <td>1_1_193_819_2021-08-31 23:27:22.541589</td>\n",
       "      <td>0001</td>\n",
       "      <td>AG-1F06</td>\n",
       "      <td>1-1-193-819</td>\n",
       "      <td>2021-08-31 16:27:23-07:00</td>\n",
       "      <td>2021-08-31 16:59:25-07:00</td>\n",
       "      <td>16</td>\n",
       "      <td>16</td>\n",
       "      <td>Tuesday</td>\n",
       "      <td>August</td>\n",
       "      <td>0.533889</td>\n",
       "    </tr>\n",
       "  </tbody>\n",
       "</table>\n",
       "<p>30814 rows × 14 columns</p>\n",
       "</div>"
      ],
      "text/plain": [
       "                            _id clusterID  kWhDelivered  \\\n",
       "0      5c36680ef9af8b4639a8ea37      0001        12.037   \n",
       "1      5c36680ef9af8b4639a8ea38      0001        36.737   \n",
       "2      5c36680ef9af8b4639a8ea39      0001        11.944   \n",
       "3      5c36680ef9af8b4639a8ea3a      0001        10.588   \n",
       "4      5c36680ef9af8b4639a8ea3b      0001         5.961   \n",
       "...                         ...       ...           ...   \n",
       "30809  6146870bf9af8b603e05e923      0001         5.857   \n",
       "30810  6146870bf9af8b603e05e924      0001         6.726   \n",
       "30811  6146870bf9af8b603e05e925      0001        10.508   \n",
       "30812  6146870bf9af8b603e05e926      0001         1.868   \n",
       "30813  6146870bf9af8b603e05e927      0001         1.351   \n",
       "\n",
       "                                    sessionID siteID  spaceID    stationID  \\\n",
       "0      1_1_193_827_2018-11-01 12:24:44.795402   0001  AG-1F02  1-1-193-827   \n",
       "1      1_1_178_824_2018-11-01 12:36:34.589955   0001  AG-1F07  1-1-178-824   \n",
       "2      1_1_194_821_2018-11-01 12:40:38.037593   0001  AG-1F13  1-1-194-821   \n",
       "3      1_1_178_823_2018-11-01 12:48:14.268383   0001  AG-1F08  1-1-178-823   \n",
       "4      1_1_191_789_2018-11-01 12:50:56.998469   0001  AG-4F52  1-1-191-789   \n",
       "...                                       ...    ...      ...          ...   \n",
       "30809  1_1_179_800_2021-08-31 21:20:07.773170   0001  AG-3F32  1-1-179-800   \n",
       "30810  1_1_191_778_2021-08-31 21:32:25.000834   0001  AG-4F43  1-1-191-778   \n",
       "30811  1_1_193_816_2021-08-31 22:15:42.043363   0001  AG-1F05  1-1-193-816   \n",
       "30812  1_1_191_808_2021-08-31 22:28:26.847558   0001  AG-4F35  1-1-191-808   \n",
       "30813  1_1_193_819_2021-08-31 23:27:22.541589   0001  AG-1F06  1-1-193-819   \n",
       "\n",
       "             connectionTimeDate        disconnectTimeDate  arrivals  \\\n",
       "0     2018-11-01 05:24:45-07:00 2018-11-01 15:47:54-07:00         5   \n",
       "1     2018-11-01 05:36:35-07:00 2018-11-01 18:06:29-07:00         5   \n",
       "2     2018-11-01 05:40:38-07:00 2018-11-01 14:05:55-07:00         5   \n",
       "3     2018-11-01 05:48:14-07:00 2018-11-01 15:36:11-07:00         5   \n",
       "4     2018-11-01 05:50:57-07:00 2018-11-01 17:03:22-07:00         5   \n",
       "...                         ...                       ...       ...   \n",
       "30809 2021-08-31 14:20:19-07:00 2021-08-31 16:34:33-07:00        14   \n",
       "30810 2021-08-31 14:32:32-07:00 2021-08-31 17:41:37-07:00        14   \n",
       "30811 2021-08-31 15:16:00-07:00 2021-08-31 17:24:11-07:00        15   \n",
       "30812 2021-08-31 15:28:36-07:00 2021-08-31 16:28:45-07:00        15   \n",
       "30813 2021-08-31 16:27:23-07:00 2021-08-31 16:59:25-07:00        16   \n",
       "\n",
       "       departures dayOfTheWeek monthOfTheYear   duration  \n",
       "0              15     Thursday       November  10.385833  \n",
       "1              18     Thursday       November  12.498333  \n",
       "2              14     Thursday       November   8.421389  \n",
       "3              15     Thursday       November   9.799167  \n",
       "4              17     Thursday       November  11.206944  \n",
       "...           ...          ...            ...        ...  \n",
       "30809          16      Tuesday         August   2.237222  \n",
       "30810          17      Tuesday         August   3.151389  \n",
       "30811          17      Tuesday         August   2.136389  \n",
       "30812          16      Tuesday         August   1.002500  \n",
       "30813          16      Tuesday         August   0.533889  \n",
       "\n",
       "[30814 rows x 14 columns]"
      ]
     },
     "execution_count": 141,
     "metadata": {},
     "output_type": "execute_result"
    }
   ],
   "source": [
    "dfJPL.drop(['connectionTime','disconnectTime','timezone'], axis=1)"
   ]
  },
  {
   "cell_type": "code",
   "execution_count": 159,
   "id": "29fb2f1a-7156-4b52-a6f0-0ee038217c28",
   "metadata": {},
   "outputs": [
    {
     "data": {
      "image/png": "[encoded data removed]",
      "text/plain": [
       "<Figure size 1440x720 with 2 Axes>"
      ]
     },
     "metadata": {},
     "output_type": "display_data"
    }
   ],
   "source": [
    "#Distribution of the arrivals and departures by hours.\n",
    "\n",
    "fig, ax = plt.subplots(2, figsize = (20,10))\n",
    "sns.barplot(x=\"arrivals\",\n",
    "                 y=\"arrivals\",\n",
    "                 data=dfJPL,\n",
    "                \n",
    "                 estimator=lambda x: len(x) / len(dfJPL) * 100, ax=ax[0]\n",
    "                 )\n",
    "\n",
    "sns.barplot(x=\"departures\",\n",
    "                 y=\"departures\",\n",
    "                 data=dfJPL,\n",
    "                 \n",
    "                 estimator=lambda x: len(x) / len(dfJPL) * 100, ax=ax[1]\n",
    "                 )\n",
    "\n",
    "ax[0].set(xlabel=\"Arrivals\")\n",
    "ax[0].set(ylabel=\"Percent\")\n",
    "ax[1].set(xlabel=\"Departures\")\n",
    "ax[1].set(ylabel=\"Percent\")\n",
    "\n",
    "\n",
    "\n",
    "plt.show()"
   ]
  },
  {
   "cell_type": "code",
   "execution_count": 160,
   "id": "b80c8e70-b9f8-427f-a5f0-060d4d9c8b9c",
   "metadata": {},
   "outputs": [
    {
     "data": {
      "image/png": "[encoded data removed]",
      "text/plain": [
       "<Figure size 1440x720 with 1 Axes>"
      ]
     },
     "metadata": {},
     "output_type": "display_data"
    }
   ],
   "source": [
    "#Distribution of charging sessions by days of the week.\n",
    "fig, ax = plt.subplots( figsize = (20,10))\n",
    "ax = sns.countplot(data = dfJPL, x = 'dayOfTheWeek', ax=ax, palette = (\"Blues_d\"))"
   ]
  },
  {
   "cell_type": "code",
   "execution_count": 161,
   "id": "49f6e3d9-f6a6-4280-90b6-a7baffcd0b2a",
   "metadata": {},
   "outputs": [
    {
     "data": {
      "image/png": "[encoded data removed]",
      "text/plain": [
       "<Figure size 1440x720 with 1 Axes>"
      ]
     },
     "metadata": {},
     "output_type": "display_data"
    }
   ],
   "source": [
    "#Distribution of charging sessions by months of the year.\n",
    "fig, ax = plt.subplots( figsize = (20,10))\n",
    "ax = sns.countplot(data = dfJPL, x = 'monthOfTheYear', ax=ax, palette = (\"Blues_d\"))"
   ]
  },
  {
   "cell_type": "code",
   "execution_count": 143,
   "id": "dc883a04-d00e-4ebf-8727-b8bddf8197a0",
   "metadata": {},
   "outputs": [
    {
     "data": {
      "image/png": "[encoded data removed]",
      "text/plain": [
       "<Figure size 1440x720 with 1 Axes>"
      ]
     },
     "metadata": {},
     "output_type": "display_data"
    }
   ],
   "source": [
    "#Mean energy delivered by hour.\n",
    "fig, ax = plt.subplots( figsize = (20,10))\n",
    "ax = sns.barplot(data = dfJPL, x = 'arrivals', y='kWhDelivered', ax=ax, palette = (\"Blues_d\"),ci=None)"
   ]
  },
  {
   "cell_type": "code",
   "execution_count": 162,
   "id": "79cae11a-1d27-41b9-869b-6cbca977ad86",
   "metadata": {},
   "outputs": [
    {
     "data": {
      "image/png": "[encoded data removed]",
      "text/plain": [
       "<Figure size 1440x720 with 1 Axes>"
      ]
     },
     "metadata": {},
     "output_type": "display_data"
    }
   ],
   "source": [
    "#Distribution of enery delivered.\n",
    "fig, ax = plt.subplots(figsize = (20,10))\n",
    "sns.histplot(data=dfJPL, x='kWhDelivered', stat='percent')\n",
    "plt.show()\n"
   ]
  },
  {
   "cell_type": "code",
   "execution_count": 163,
   "id": "26afa955-4c4e-40d9-a015-2db46cffa5fe",
   "metadata": {},
   "outputs": [
    {
     "data": {
      "image/png": "[encoded data removed]",
      "text/plain": [
       "<Figure size 1440x720 with 1 Axes>"
      ]
     },
     "metadata": {},
     "output_type": "display_data"
    }
   ],
   "source": [
    "#Distribution of duration.\n",
    "fig, ax = plt.subplots(figsize = (20,10))\n",
    "sns.histplot(data=dfJPL, x='duration', stat='percent')\n",
    "plt.show()"
   ]
  },
  {
   "cell_type": "markdown",
   "id": "c748033d-3060-4b0e-bb05-85245730fdc4",
   "metadata": {},
   "source": [
    "#### Caltech Dataset"
   ]
  },
  {
   "cell_type": "code",
   "execution_count": 146,
   "id": "d6391b69-6e8b-4acc-86cf-e0e438481111",
   "metadata": {},
   "outputs": [],
   "source": [
    "#Convert the values in the columns connectionTime and disconnectTime to datetime like values, and timezone for each value from GMT to PST.\n",
    "dfCal['connectionTimeDate'] =pd.to_datetime(dfCal['connectionTime']).dt.tz_convert('America/Los_Angeles')\n",
    "dfCal['disconnectTimeDate'] =pd.to_datetime(dfCal['disconnectTime']).dt.tz_convert('America/Los_Angeles')\n",
    "\n",
    "#Extract the hour of the arrivals and departures. \n",
    "dfCal['arrivals'] =dfCal['connectionTimeDate'].dt.hour\n",
    "dfCal['departures'] =dfCal['disconnectTimeDate'].dt.hour\n",
    "\n",
    "#Extract the day and the month for each charging session.  \n",
    "dfCal['dayOfTheWeek'] = dfCal['connectionTimeDate'].dt.day_name()\n",
    "dfCal['monthOfTheYear'] = dfCal['connectionTimeDate'].dt.month_name()\n",
    "\n",
    "#Calculate the duration for each charging session and convert the values to hours.\n",
    "dfCal['duration'] = ((pd.to_datetime(dfCal['disconnectTimeDate']) - \n",
    "                            pd.to_datetime(dfCal['connectionTimeDate']))\n",
    "                                .dt.total_seconds() / 3600)\n"
   ]
  },
  {
   "cell_type": "code",
   "execution_count": 147,
   "id": "636b811c-a103-4c55-9776-a6e76fd248ba",
   "metadata": {},
   "outputs": [
    {
     "data": {
      "text/html": [
       "<div>\n",
       "<style scoped>\n",
       "    .dataframe tbody tr th:only-of-type {\n",
       "        vertical-align: middle;\n",
       "    }\n",
       "\n",
       "    .dataframe tbody tr th {\n",
       "        vertical-align: top;\n",
       "    }\n",
       "\n",
       "    .dataframe thead th {\n",
       "        text-align: right;\n",
       "    }\n",
       "</style>\n",
       "<table border=\"1\" class=\"dataframe\">\n",
       "  <thead>\n",
       "    <tr style=\"text-align: right;\">\n",
       "      <th></th>\n",
       "      <th>_id</th>\n",
       "      <th>clusterID</th>\n",
       "      <th>kWhDelivered</th>\n",
       "      <th>sessionID</th>\n",
       "      <th>siteID</th>\n",
       "      <th>spaceID</th>\n",
       "      <th>stationID</th>\n",
       "      <th>connectionTimeDate</th>\n",
       "      <th>disconnectTimeDate</th>\n",
       "      <th>arrivals</th>\n",
       "      <th>departures</th>\n",
       "      <th>dayOfTheWeek</th>\n",
       "      <th>monthOfTheYear</th>\n",
       "      <th>duration</th>\n",
       "    </tr>\n",
       "  </thead>\n",
       "  <tbody>\n",
       "    <tr>\n",
       "      <th>0</th>\n",
       "      <td>5c2e858ef9af8b13dab074de</td>\n",
       "      <td>0039</td>\n",
       "      <td>4.327000</td>\n",
       "      <td>2_39_89_25_2018-11-01 13:55:02.815279</td>\n",
       "      <td>0002</td>\n",
       "      <td>CA-315</td>\n",
       "      <td>2-39-89-25</td>\n",
       "      <td>2018-11-01 06:55:03-07:00</td>\n",
       "      <td>2018-11-01 08:10:42-07:00</td>\n",
       "      <td>6</td>\n",
       "      <td>8</td>\n",
       "      <td>Thursday</td>\n",
       "      <td>November</td>\n",
       "      <td>1.260833</td>\n",
       "    </tr>\n",
       "    <tr>\n",
       "      <th>1</th>\n",
       "      <td>5c2e858ef9af8b13dab074df</td>\n",
       "      <td>0039</td>\n",
       "      <td>6.427000</td>\n",
       "      <td>2_39_79_380_2018-11-01 13:57:00.128478</td>\n",
       "      <td>0002</td>\n",
       "      <td>CA-489</td>\n",
       "      <td>2-39-79-380</td>\n",
       "      <td>2018-11-01 06:57:00-07:00</td>\n",
       "      <td>2018-11-01 11:45:20-07:00</td>\n",
       "      <td>6</td>\n",
       "      <td>11</td>\n",
       "      <td>Thursday</td>\n",
       "      <td>November</td>\n",
       "      <td>4.805556</td>\n",
       "    </tr>\n",
       "    <tr>\n",
       "      <th>2</th>\n",
       "      <td>5c2e858ef9af8b13dab074e0</td>\n",
       "      <td>0039</td>\n",
       "      <td>6.930000</td>\n",
       "      <td>2_39_95_27_2018-11-01 14:05:57.543149</td>\n",
       "      <td>0002</td>\n",
       "      <td>CA-319</td>\n",
       "      <td>2-39-95-27</td>\n",
       "      <td>2018-11-01 07:05:58-07:00</td>\n",
       "      <td>2018-11-01 08:14:00-07:00</td>\n",
       "      <td>7</td>\n",
       "      <td>8</td>\n",
       "      <td>Thursday</td>\n",
       "      <td>November</td>\n",
       "      <td>1.133889</td>\n",
       "    </tr>\n",
       "    <tr>\n",
       "      <th>3</th>\n",
       "      <td>5c2e858ef9af8b13dab074e1</td>\n",
       "      <td>0039</td>\n",
       "      <td>0.917000</td>\n",
       "      <td>2_39_79_376_2018-11-01 14:06:07.581931</td>\n",
       "      <td>0002</td>\n",
       "      <td>CA-324</td>\n",
       "      <td>2-39-79-376</td>\n",
       "      <td>2018-11-01 07:06:08-07:00</td>\n",
       "      <td>2018-11-01 15:20:43-07:00</td>\n",
       "      <td>7</td>\n",
       "      <td>15</td>\n",
       "      <td>Thursday</td>\n",
       "      <td>November</td>\n",
       "      <td>8.243056</td>\n",
       "    </tr>\n",
       "    <tr>\n",
       "      <th>4</th>\n",
       "      <td>5c2e858ef9af8b13dab074e2</td>\n",
       "      <td>0039</td>\n",
       "      <td>19.476567</td>\n",
       "      <td>2_39_78_360_2018-11-01 14:07:28.105688</td>\n",
       "      <td>0002</td>\n",
       "      <td>CA-322</td>\n",
       "      <td>2-39-78-360</td>\n",
       "      <td>2018-11-01 07:07:28-07:00</td>\n",
       "      <td>2018-11-01 11:35:02-07:00</td>\n",
       "      <td>7</td>\n",
       "      <td>11</td>\n",
       "      <td>Thursday</td>\n",
       "      <td>November</td>\n",
       "      <td>4.459444</td>\n",
       "    </tr>\n",
       "    <tr>\n",
       "      <th>...</th>\n",
       "      <td>...</td>\n",
       "      <td>...</td>\n",
       "      <td>...</td>\n",
       "      <td>...</td>\n",
       "      <td>...</td>\n",
       "      <td>...</td>\n",
       "      <td>...</td>\n",
       "      <td>...</td>\n",
       "      <td>...</td>\n",
       "      <td>...</td>\n",
       "      <td>...</td>\n",
       "      <td>...</td>\n",
       "      <td>...</td>\n",
       "      <td>...</td>\n",
       "    </tr>\n",
       "    <tr>\n",
       "      <th>18016</th>\n",
       "      <td>614533a8f9af8b5e42dfd508</td>\n",
       "      <td>0039</td>\n",
       "      <td>5.840000</td>\n",
       "      <td>2_39_79_379_2021-08-31 22:23:55.941393</td>\n",
       "      <td>0002</td>\n",
       "      <td>CA-327</td>\n",
       "      <td>2-39-79-379</td>\n",
       "      <td>2021-08-31 15:24:07-07:00</td>\n",
       "      <td>2021-08-31 18:03:29-07:00</td>\n",
       "      <td>15</td>\n",
       "      <td>18</td>\n",
       "      <td>Tuesday</td>\n",
       "      <td>August</td>\n",
       "      <td>2.656111</td>\n",
       "    </tr>\n",
       "    <tr>\n",
       "      <th>18017</th>\n",
       "      <td>614533a8f9af8b5e42dfd509</td>\n",
       "      <td>0039</td>\n",
       "      <td>2.531000</td>\n",
       "      <td>2_39_126_20_2021-08-31 23:51:54.781858</td>\n",
       "      <td>0002</td>\n",
       "      <td>CA-310</td>\n",
       "      <td>2-39-126-20</td>\n",
       "      <td>2021-08-31 16:52:02-07:00</td>\n",
       "      <td>2021-08-31 17:16:55-07:00</td>\n",
       "      <td>16</td>\n",
       "      <td>17</td>\n",
       "      <td>Tuesday</td>\n",
       "      <td>August</td>\n",
       "      <td>0.414722</td>\n",
       "    </tr>\n",
       "    <tr>\n",
       "      <th>18018</th>\n",
       "      <td>614533a8f9af8b5e42dfd50a</td>\n",
       "      <td>0039</td>\n",
       "      <td>0.901000</td>\n",
       "      <td>2_39_138_29_2021-09-01 00:05:37.366341</td>\n",
       "      <td>0002</td>\n",
       "      <td>CA-304</td>\n",
       "      <td>2-39-138-29</td>\n",
       "      <td>2021-08-31 17:05:37-07:00</td>\n",
       "      <td>2021-08-31 18:46:34-07:00</td>\n",
       "      <td>17</td>\n",
       "      <td>18</td>\n",
       "      <td>Tuesday</td>\n",
       "      <td>August</td>\n",
       "      <td>1.682500</td>\n",
       "    </tr>\n",
       "    <tr>\n",
       "      <th>18019</th>\n",
       "      <td>614533a8f9af8b5e42dfd50b</td>\n",
       "      <td>0039</td>\n",
       "      <td>2.101000</td>\n",
       "      <td>2_39_127_19_2021-09-01 00:41:51.748872</td>\n",
       "      <td>0002</td>\n",
       "      <td>CA-309</td>\n",
       "      <td>2-39-127-19</td>\n",
       "      <td>2021-08-31 17:41:52-07:00</td>\n",
       "      <td>2021-08-31 18:19:14-07:00</td>\n",
       "      <td>17</td>\n",
       "      <td>18</td>\n",
       "      <td>Tuesday</td>\n",
       "      <td>August</td>\n",
       "      <td>0.622778</td>\n",
       "    </tr>\n",
       "    <tr>\n",
       "      <th>18020</th>\n",
       "      <td>614533a8f9af8b5e42dfd50c</td>\n",
       "      <td>0039</td>\n",
       "      <td>3.152000</td>\n",
       "      <td>2_39_139_28_2021-09-01 02:22:22.552206</td>\n",
       "      <td>0002</td>\n",
       "      <td>CA-303</td>\n",
       "      <td>2-39-139-28</td>\n",
       "      <td>2021-08-31 19:22:23-07:00</td>\n",
       "      <td>2021-08-31 20:18:32-07:00</td>\n",
       "      <td>19</td>\n",
       "      <td>20</td>\n",
       "      <td>Tuesday</td>\n",
       "      <td>August</td>\n",
       "      <td>0.935833</td>\n",
       "    </tr>\n",
       "  </tbody>\n",
       "</table>\n",
       "<p>18021 rows × 14 columns</p>\n",
       "</div>"
      ],
      "text/plain": [
       "                            _id clusterID  kWhDelivered  \\\n",
       "0      5c2e858ef9af8b13dab074de      0039      4.327000   \n",
       "1      5c2e858ef9af8b13dab074df      0039      6.427000   \n",
       "2      5c2e858ef9af8b13dab074e0      0039      6.930000   \n",
       "3      5c2e858ef9af8b13dab074e1      0039      0.917000   \n",
       "4      5c2e858ef9af8b13dab074e2      0039     19.476567   \n",
       "...                         ...       ...           ...   \n",
       "18016  614533a8f9af8b5e42dfd508      0039      5.840000   \n",
       "18017  614533a8f9af8b5e42dfd509      0039      2.531000   \n",
       "18018  614533a8f9af8b5e42dfd50a      0039      0.901000   \n",
       "18019  614533a8f9af8b5e42dfd50b      0039      2.101000   \n",
       "18020  614533a8f9af8b5e42dfd50c      0039      3.152000   \n",
       "\n",
       "                                    sessionID siteID spaceID    stationID  \\\n",
       "0       2_39_89_25_2018-11-01 13:55:02.815279   0002  CA-315   2-39-89-25   \n",
       "1      2_39_79_380_2018-11-01 13:57:00.128478   0002  CA-489  2-39-79-380   \n",
       "2       2_39_95_27_2018-11-01 14:05:57.543149   0002  CA-319   2-39-95-27   \n",
       "3      2_39_79_376_2018-11-01 14:06:07.581931   0002  CA-324  2-39-79-376   \n",
       "4      2_39_78_360_2018-11-01 14:07:28.105688   0002  CA-322  2-39-78-360   \n",
       "...                                       ...    ...     ...          ...   \n",
       "18016  2_39_79_379_2021-08-31 22:23:55.941393   0002  CA-327  2-39-79-379   \n",
       "18017  2_39_126_20_2021-08-31 23:51:54.781858   0002  CA-310  2-39-126-20   \n",
       "18018  2_39_138_29_2021-09-01 00:05:37.366341   0002  CA-304  2-39-138-29   \n",
       "18019  2_39_127_19_2021-09-01 00:41:51.748872   0002  CA-309  2-39-127-19   \n",
       "18020  2_39_139_28_2021-09-01 02:22:22.552206   0002  CA-303  2-39-139-28   \n",
       "\n",
       "             connectionTimeDate        disconnectTimeDate  arrivals  \\\n",
       "0     2018-11-01 06:55:03-07:00 2018-11-01 08:10:42-07:00         6   \n",
       "1     2018-11-01 06:57:00-07:00 2018-11-01 11:45:20-07:00         6   \n",
       "2     2018-11-01 07:05:58-07:00 2018-11-01 08:14:00-07:00         7   \n",
       "3     2018-11-01 07:06:08-07:00 2018-11-01 15:20:43-07:00         7   \n",
       "4     2018-11-01 07:07:28-07:00 2018-11-01 11:35:02-07:00         7   \n",
       "...                         ...                       ...       ...   \n",
       "18016 2021-08-31 15:24:07-07:00 2021-08-31 18:03:29-07:00        15   \n",
       "18017 2021-08-31 16:52:02-07:00 2021-08-31 17:16:55-07:00        16   \n",
       "18018 2021-08-31 17:05:37-07:00 2021-08-31 18:46:34-07:00        17   \n",
       "18019 2021-08-31 17:41:52-07:00 2021-08-31 18:19:14-07:00        17   \n",
       "18020 2021-08-31 19:22:23-07:00 2021-08-31 20:18:32-07:00        19   \n",
       "\n",
       "       departures dayOfTheWeek monthOfTheYear  duration  \n",
       "0               8     Thursday       November  1.260833  \n",
       "1              11     Thursday       November  4.805556  \n",
       "2               8     Thursday       November  1.133889  \n",
       "3              15     Thursday       November  8.243056  \n",
       "4              11     Thursday       November  4.459444  \n",
       "...           ...          ...            ...       ...  \n",
       "18016          18      Tuesday         August  2.656111  \n",
       "18017          17      Tuesday         August  0.414722  \n",
       "18018          18      Tuesday         August  1.682500  \n",
       "18019          18      Tuesday         August  0.622778  \n",
       "18020          20      Tuesday         August  0.935833  \n",
       "\n",
       "[18021 rows x 14 columns]"
      ]
     },
     "execution_count": 147,
     "metadata": {},
     "output_type": "execute_result"
    }
   ],
   "source": [
    "dfCal.drop(['connectionTime','disconnectTime','timezone'], axis=1)"
   ]
  },
  {
   "cell_type": "code",
   "execution_count": 148,
   "id": "5dff76ac-afee-4232-9516-279d3c902e3a",
   "metadata": {},
   "outputs": [
    {
     "data": {
      "image/png": "[encoded data removed]",
      "text/plain": [
       "<Figure size 1440x720 with 2 Axes>"
      ]
     },
     "metadata": {},
     "output_type": "display_data"
    }
   ],
   "source": [
    "fig, ax = plt.subplots(2, figsize = (20,10))\n",
    "sns.barplot(x=\"arrivals\",\n",
    "                 y=\"arrivals\",\n",
    "                 data=dfCal,\n",
    "                \n",
    "                 estimator=lambda x: len(x) / len(dfCal) * 100, ax=ax[0]\n",
    "                 )\n",
    "sns.barplot(x=\"departures\",\n",
    "                 y=\"departures\",\n",
    "                 data=dfCal,\n",
    "                 \n",
    "                 estimator=lambda x: len(x) / len(dfCal) * 100, ax=ax[1]\n",
    "                 )\n",
    "ax[0].set(xlabel=\"Arrivals\")\n",
    "ax[0].set(ylabel=\"Percent\")\n",
    "ax[1].set(xlabel=\"Departures\")\n",
    "ax[1].set(ylabel=\"Percent\")\n",
    "plt.show()"
   ]
  },
  {
   "cell_type": "code",
   "execution_count": 157,
   "id": "5ba71c21-278f-429d-8131-70ff4dbc0df5",
   "metadata": {},
   "outputs": [
    {
     "data": {
      "image/png": "[encoded data removed]",
      "text/plain": [
       "<Figure size 1440x720 with 1 Axes>"
      ]
     },
     "metadata": {},
     "output_type": "display_data"
    }
   ],
   "source": [
    "fig, ax = plt.subplots( figsize = (20,10))\n",
    "ax = sns.countplot(data = dfCal, x = 'dayOfTheWeek', ax=ax, palette = (\"Blues_d\"))"
   ]
  },
  {
   "cell_type": "code",
   "execution_count": 158,
   "id": "e2aea4e7-5cf5-4699-bfe7-2db8b47bda45",
   "metadata": {},
   "outputs": [
    {
     "data": {
      "image/png": "[encoded data removed]",
      "text/plain": [
       "<Figure size 1440x720 with 1 Axes>"
      ]
     },
     "metadata": {},
     "output_type": "display_data"
    }
   ],
   "source": [
    "fig, ax = plt.subplots( figsize = (20,10))\n",
    "ax = sns.countplot(data = dfCal, x = 'monthOfTheYear', ax=ax, palette = (\"Blues_d\"))"
   ]
  },
  {
   "cell_type": "code",
   "execution_count": 149,
   "id": "6f9706f8-806a-4dde-bc08-91482b7be168",
   "metadata": {},
   "outputs": [
    {
     "data": {
      "image/png": "[encoded data removed]",
      "text/plain": [
       "<Figure size 1440x720 with 1 Axes>"
      ]
     },
     "metadata": {},
     "output_type": "display_data"
    }
   ],
   "source": [
    "fig, ax = plt.subplots( figsize = (20,10))\n",
    "ax = sns.barplot(data = dfCal, x = 'arrivals', y='kWhDelivered', ax=ax, palette = (\"Blues_d\"),ci=None)"
   ]
  },
  {
   "cell_type": "code",
   "execution_count": 150,
   "id": "d6b1e671-fc18-421c-9171-ea15a3abc4a7",
   "metadata": {},
   "outputs": [
    {
     "data": {
      "image/png": "[encoded data removed]",
      "text/plain": [
       "<Figure size 1440x720 with 1 Axes>"
      ]
     },
     "metadata": {},
     "output_type": "display_data"
    }
   ],
   "source": [
    "fig, ax = plt.subplots(figsize = (20,10))\n",
    "sns.histplot(data=dfCal, x='kWhDelivered', stat='percent')\n",
    "plt.show()"
   ]
  },
  {
   "cell_type": "code",
   "execution_count": 151,
   "id": "43ec547f-4f4d-4ca1-b0a0-9e3b9550cc2d",
   "metadata": {},
   "outputs": [
    {
     "data": {
      "image/png": "[encoded data removed]",
      "text/plain": [
       "<Figure size 1440x720 with 1 Axes>"
      ]
     },
     "metadata": {},
     "output_type": "display_data"
    }
   ],
   "source": [
    "fig, ax = plt.subplots(figsize = (20,10))\n",
    "sns.histplot(data=dfCal, x='duration', stat='percent')\n",
    "plt.show()"
   ]
  },
  {
   "cell_type": "code",
   "execution_count": null,
   "id": "b2b037f1-6bbc-4fea-b924-35eb608b8f55",
   "metadata": {},
   "outputs": [],
   "source": []
  }
 ],
 "metadata": {
  "kernelspec": {
   "display_name": "Python 3 (ipykernel)",
   "language": "python",
   "name": "python3"
  },
  "language_info": {
   "codemirror_mode": {
    "name": "ipython",
    "version": 3
   },
   "file_extension": ".py",
   "mimetype": "text/x-python",
   "name": "python",
   "nbconvert_exporter": "python",
   "pygments_lexer": "ipython3",
   "version": "3.8.12"
  }
 },
 "nbformat": 4,
 "nbformat_minor": 5
}
